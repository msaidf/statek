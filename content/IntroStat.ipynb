{
 "cells": [
  {
   "cell_type": "markdown",
   "metadata": {
    "slideshow": {
     "slide_type": "slide"
    }
   },
   "source": [
    "# Pengantar Statistik"
   ]
  },
  {
   "cell_type": "markdown",
   "metadata": {
    "slideshow": {
     "slide_type": "slide"
    }
   },
   "source": [
    "## Mengapa Belajar Statistik?"
   ]
  },
  {
   "cell_type": "markdown",
   "metadata": {
    "slideshow": {
     "slide_type": "notes"
    }
   },
   "source": [
    "Masa sekarang, teknologi informasi dan komunikasi berkembang pesat dan semakin menjadi bagian tak terpisahkan dari kehidupan sehari-hari di hampir seluruh lapisan masyarakat. Informasi kini bukan hanya lebih mudah, namun bahkan terlampau mudah hingga membanjir. Tantangan masyarakat di masa ini adalah pada membedakan informasi mana yang benar dari yang keliru dan menyesatkan. \n",
    "\n",
    "Istilah *hoax*, kabar palsu, menjadi populer seiring dengan tren ini. Namun kabar palsu tidaklah unik menjadi masalah di masa sekarang. Hanya jumlahnya saja yang semakin banyak seiring dengan banjir informasi. Dari dulu kabar palsu selalu bercampur bersama kabar yang sahih; satu waktu kecil menyelip di antara kabar sahih; di waktu lain justru dominan.\n",
    "\n",
    "Ketika kita ingin mengambil kesimpulan atas suatu fenomena yang melibatkan banyak kejadian, kita memerlukan cara untuk meringkas informasi yang dikandung oleh berbagai kejadian itu. Kita tidak bisa mengambil kesimpulan untuk fenomena umum hanya berdasarkan informasi dari kejadian-kejadian tunggal (**anekdot**) karena belum tentu anekdot tersebut tepat mewakili fenomena umum itu. Mengambil kesimpulan umum dari bukti anekdotal disebut **generalisasi**.\n",
    "\n",
    "Karenanya, langkah awal untuk menjawab pertanyaan tentang suatu fenomena adalah memperoleh data terkait segala sesuatu yang terkait fenomena tersebut. Setelah itu, kita perlu suatu metode untuk meringkas data yang melibatkan cukup banyak kejadian sehingga tidak lagi mudah untuk dicerna hanya dengan melihat data satu per satu. Statistik adalah bidang ilmu mengenai cara memperoleh, meringkas dan menyajikan data. \n",
    "\n",
    "Banyak dari metode statistik yang hanya memformalisasi cara intuisi kita memproses informasi dalam kehidupan sehari-hari. Misal konsep *modus* yang menyimpulkan kecenderungan berdasarkan pola yang paling banyak muncul, atau *rata-rata* yang menyimpulkan kecenderungan dengan memberi bobot pada tiap kejadian berdasar frekuensi kejadian yang sama atau mirip.\n",
    "\n",
    "**Ringkasan**"
   ]
  },
  {
   "cell_type": "markdown",
   "metadata": {},
   "source": [
    "- Banjir informasi, campuran antara yang benar dan keliru\n",
    "- Tidak cukup melakukan generalisasi atas kejadian anekdotal\n",
    "- Kita butuh data yang mewakili, dan meringkasnya untuk menjadi informasi yang mudah dimengerti"
   ]
  },
  {
   "cell_type": "markdown",
   "metadata": {
    "slideshow": {
     "slide_type": "slide"
    }
   },
   "source": [
    "## Jenis Statistik\n",
    "- **Statistik Deskriptif**: mengumpulkan, meringkas, dan menyajikan data\n",
    "- **Statistik Inferensial**: estimasi, prediksi, generalisasi mengenai satu populasi berdasarkan sampel\n",
    "    - **populasi**: kumpulan individu atau pengukuran yang jadi ketertarikan\n",
    "    - **sampel**: bagian dari populasi ketertarikan yang menjadi dasar inferensi"
   ]
  },
  {
   "cell_type": "markdown",
   "metadata": {
    "slideshow": {
     "slide_type": "slide"
    }
   },
   "source": [
    "## Macam Variabel\n",
    "- **Kualitatif**: non angka\n",
    "- **Kuantitatif**: angka\n",
    "    - Diskrit: bulat, tidak bisa dipecah\n",
    "    - Kontinyu: bisa dipecah hingga sekecil-kecilnya"
   ]
  },
  {
   "cell_type": "markdown",
   "metadata": {
    "slideshow": {
     "slide_type": "slide"
    }
   },
   "source": [
    "## Skala Pengukuran\n",
    "- **Nominal**: tak bisa diurutkan\n",
    "- **Ordinal**: urut, selisih tidak tentu\n",
    "- **Interval**: urut, selisih bisa dihitung, rasio tak tentu\n",
    "- **Rasio**: urut, selisih dan rasio bisa dihitung"
   ]
  }
 ],
 "metadata": {
  "celltoolbar": "Slideshow",
  "hide_input": false,
  "kernelspec": {
   "display_name": "R",
   "language": "R",
   "name": "ir"
  },
  "language_info": {
   "codemirror_mode": "r",
   "file_extension": ".r",
   "mimetype": "text/x-r-source",
   "name": "R",
   "pygments_lexer": "r",
   "version": "3.5.1"
  },
  "toc": {
   "base_numbering": 1,
   "nav_menu": {},
   "number_sections": false,
   "sideBar": true,
   "skip_h1_title": true,
   "title_cell": "Contents",
   "title_sidebar": "Contents",
   "toc_cell": false,
   "toc_position": {
    "height": "calc(100% - 180px)",
    "left": "10px",
    "top": "150px",
    "width": "199.2px"
   },
   "toc_section_display": true,
   "toc_window_display": false
  }
 },
 "nbformat": 4,
 "nbformat_minor": 2
}
