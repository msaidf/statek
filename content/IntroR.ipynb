{
 "cells": [
  {
   "cell_type": "markdown",
   "metadata": {
    "slideshow": {
     "slide_type": "slide"
    }
   },
   "source": [
    "# Pengenalan R"
   ]
  },
  {
   "cell_type": "markdown",
   "metadata": {
    "slideshow": {
     "slide_type": "slide"
    }
   },
   "source": [
    "## Software Statistik"
   ]
  },
  {
   "cell_type": "markdown",
   "metadata": {
    "slideshow": {
     "slide_type": "notes"
    }
   },
   "source": [
    "Sebagian besar metode statistik kini bisa dilakukan dengan bantuan program komputer. Penguasaan software statistik menjadi pelengkap wajib dari pengetahuan konsep statistik dan menjadi nilai keunggulan di lapangan kerja.\n",
    "\n",
    "Banyak macam software yang memiliki program statistik. Sebagian software khusus untuk mengerjakan statistik, seperti SPSS dan Stata. Sebagian lagi bisa digunakan untuk pemrograman matematika secara umum, seperti Matlab, Octave, Gauss dan R. Bahasa pemrograman umum seperti C, Java, Python, dan Julia pun memiliki library statistik. Penerapan statistik di industri teknologi di bawah payung topik *Machine Learning* memunculkan banyak library bahasa pemrograman yang lebih handal dan menerapkan teknik terkini dibanding software khusus statistik. \n",
    "\n",
    "**Ringkasan**"
   ]
  },
  {
   "cell_type": "markdown",
   "metadata": {},
   "source": [
    "- Bagian tak terpisahkan dari belajar statistik \n",
    "- Skill berharga di lapangan kerja"
   ]
  },
  {
   "cell_type": "markdown",
   "metadata": {
    "slideshow": {
     "slide_type": "subslide"
    }
   },
   "source": [
    "## Software R"
   ]
  },
  {
   "cell_type": "markdown",
   "metadata": {
    "slideshow": {
     "slide_type": "notes"
    }
   },
   "source": [
    "Buku ini mengenalkan software R, yang walau gratis namun fiturnya cukup lengkap, bersaing dengan software statistik komersial yang mahal sekalipun. R bisa diunduh di [CRAN](https://cran.r-project.org), pilih versi sesuai dengan sistem operasi yang digunakan (Windows, MacOS, atau Linux).\n",
    "\n",
    "R ini pada dasarnya merupakan program yang berjalan dengan kode perintah (*syntax*). Namun R juga bisa digunakan menggunakan tampilan grafis (*GUI*). Software R yang dari CRAN sudah memiliki tampilan grafis sederhana, namun banyak alternatif GUI yang lebih baik. GUI paling populer adalah [RStudio](https://www.rstudio.com), dan versi desktop-nya saya rekomendasikan untuk pemula karena mudah diinstal ke semua sistem operasi. \n",
    "\n",
    "Saya sendiri belakangan ini lebih sering menggunakan [Jupyter notebook](https://jupyter.org) yang menggunakan model tampilan *What You See Is What You Get* (WYSYWIG) seperti tampilan pengolah kata MS Word dan Google Docs. Cara termudah untuk menginstall Juypter notebook beserta dengan kernel R adalah dengan menginstal Miniconda, lalu jalankan perintah berikut\n",
    "\n",
    "```\n",
    "conda install jupyter mro-base r-essentials\n",
    "```\n",
    "\n",
    "**Ringkasan**"
   ]
  },
  {
   "cell_type": "markdown",
   "metadata": {},
   "source": [
    "- Gratis dan lengkap, bersaing dengan software statistik berbayar\n",
    "- Download installer R di [cran.r-project.org](https://cran.r-project.org)\n",
    "- Download juga RStudio Desktop di [rstudio.com](https://www.rstudio.com/products/rstudio/download) untuk antarmuka grafis\n",
    "- Download RStudio dari link-link berikut jika sistem operasi masih 32-bit: [Windows](http://download1.rstudio.org/RStudio-1.1.463.exe), [Ubuntu](http://download1.rstudio.org/rstudio-1.1.463-i386.deb), [Red Hat/Fedora](http://download1.rstudio.org/rstudio-1.1.463-i686.rpm), atau [MacOS El Capitan dan sebelumnya](http://download1.rstudio.org/RStudio-1.1.463.dmg)"
   ]
  },
  {
   "cell_type": "markdown",
   "metadata": {
    "slideshow": {
     "slide_type": "subslide"
    }
   },
   "source": [
    "## R Online"
   ]
  },
  {
   "cell_type": "markdown",
   "metadata": {
    "slideshow": {
     "slide_type": "notes"
    }
   },
   "source": [
    "Proses setup software R hingga siap pakai, mencakup program R, GUI dan library yang dibutuhkan memerlukan waktu cukup lama. Berapa lama bergantung pada kecepatan akses internet untuk mengunduh dan kecepatan komputer dalam memproses instalasi. \n",
    "\n",
    "Cara yang lebih instan untuk bisa segera memakai R adalah menggunakan layanan software online yang cukup diakses dengan browser internet. Untuk menggunakan layanan ini, pengguna biasanya diharuskan mendaftar akun terlebih dulu. Biasanya ada opsi gratis untuk mencoba; sebagian tetap memberikan fitur penuh namun dibatasi waktu, sebagian lagi tidak membatasi waktu tapi membatasi fitur dan kapasitas pemakaian.\n",
    "\n",
    "Kebanyakan layanan software statistik online ini menggunakan Jupyter notebook sebagai antarmuka, seperti di [MyBinder](https://mybinder.org). Salah satu penyedia yang menggunakan antarmuka RStudio adalah [RStudio Cloud](https://cloud.rstudio.com). Sebagian lagi memiliki GUI yang dikembangkan sendiri.\n",
    "\n",
    "**Ringkasan**"
   ]
  },
  {
   "cell_type": "markdown",
   "metadata": {},
   "source": [
    "- Siap pakai segera, tidak perlu menginstal apapun\n",
    "- Bisa dipakai dimana saja, selama ada akses internet\n",
    "- *Freemium*: bisa akses gratis dengan fitur dan kapasitas terbatas\n",
    "- [RStudio Cloud](https://rstudio.cloud) dengan antarmuka seperti versi desktopnya\n",
    "- [MyBinder](https://mybinder.org) untuk antarmuka jupyter notebook"
   ]
  }
 ],
 "metadata": {
  "celltoolbar": "Slideshow",
  "hide_input": false,
  "kernelspec": {
   "display_name": "R",
   "language": "R",
   "name": "ir"
  },
  "language_info": {
   "codemirror_mode": "r",
   "file_extension": ".r",
   "mimetype": "text/x-r-source",
   "name": "R",
   "pygments_lexer": "r",
   "version": "3.5.1"
  },
  "toc": {
   "base_numbering": 1,
   "nav_menu": {},
   "number_sections": false,
   "sideBar": true,
   "skip_h1_title": true,
   "title_cell": "Contents",
   "title_sidebar": "Contents",
   "toc_cell": false,
   "toc_position": {
    "height": "calc(100% - 180px)",
    "left": "10px",
    "top": "150px",
    "width": "199.2px"
   },
   "toc_section_display": true,
   "toc_window_display": false
  }
 },
 "nbformat": 4,
 "nbformat_minor": 2
}
