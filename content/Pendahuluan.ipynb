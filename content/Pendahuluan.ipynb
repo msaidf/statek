{
 "cells": [
  {
   "cell_type": "markdown",
   "metadata": {
    "slideshow": {
     "slide_type": "slide"
    }
   },
   "source": [
    "# Pendahuluan"
   ]
  },
  {
   "cell_type": "markdown",
   "metadata": {
    "slideshow": {
     "slide_type": "slide"
    }
   },
   "source": [
    "## Mengapa Belajar Statistik?\n",
    "- Banjir informasi, campuran antara yang benar dan keliru\n",
    "- Tidak cukup melakukan generalisasi atas kejadian anekdotal\n",
    "- Kita butuh data yang mewakili, dan meringkasnya untuk menjadi informasi yang mudah dimengerti"
   ]
  },
  {
   "cell_type": "markdown",
   "metadata": {
    "slideshow": {
     "slide_type": "notes"
    }
   },
   "source": [
    "Masa sekarang, teknologi informasi dan komunikasi berkembang pesat dan semakin menjadi bagian tak terpisahkan dari kehidupan sehari-hari di hampir seluruh lapisan masyarakat. Informasi kini bukan hanya lebih mudah, namun bahkan terlampau mudah hingga membanjir. Tantangan masyarakat di masa ini adalah pada membedakan informasi mana yang benar dari yang keliru dan menyesatkan. \n",
    "\n",
    "Istilah *hoax*, kabar palsu, menjadi populer seiring dengan tren ini. Namun kabar palsu tidaklah unik menjadi masalah di masa sekarang. Hanya jumlahnya saja yang semakin banyak seiring dengan banjir informasi. Dari dulu kabar palsu selalu bercampur bersama kabar yang sahih; satu waktu kecil menyelip di antara kabar sahih; di waktu lain justru dominan.\n",
    "\n",
    "Ketika kita ingin mengambil kesimpulan atas suatu fenomena yang melibatkan banyak kejadian, kita memerlukan cara untuk meringkas informasi yang dikandung oleh berbagai kejadian itu. Kita tidak bisa mengambil kesimpulan untuk fenomena umum hanya berdasarkan informasi dari kejadian-kejadian tunggal (**anekdot**) karena belum tentu anekdot tersebut tepat mewakili fenomena umum itu. Mengambil kesimpulan umum dari bukti anekdotal disebut **generalisasi**.\n",
    "\n",
    "Karenanya, langkah awal untuk menjawab pertanyaan tentang suatu fenomena adalah memperoleh data terkait segala sesuatu yang terkait fenomena tersebut. Setelah itu, kita perlu suatu metode untuk meringkas data yang melibatkan cukup banyak kejadian sehingga tidak lagi mudah untuk dicerna hanya dengan melihat data satu per satu. Statistik adalah bidang ilmu mengenai cara memperoleh, meringkas dan menyajikan data. \n",
    "\n",
    "Banyak dari metode statistik yang hanya memformalisasi cara intuisi kita memproses informasi dalam kehidupan sehari-hari. Misal konsep *modus* yang menyimpulkan kecenderungan berdasarkan pola yang paling banyak muncul, atau *rata-rata* yang menyimpulkan kecenderungan dengan memberi bobot pada tiap kejadian berdasar frekuensi kejadian yang sama atau mirip."
   ]
  },
  {
   "cell_type": "markdown",
   "metadata": {
    "slideshow": {
     "slide_type": "slide"
    }
   },
   "source": [
    "## Software Statistik\n",
    "- Bagian tak terpisahkan dari belajar statistik \n",
    "- Skill berharga di lapangan kerja"
   ]
  },
  {
   "cell_type": "markdown",
   "metadata": {
    "slideshow": {
     "slide_type": "notes"
    }
   },
   "source": [
    "Sebagian besar metode statistik kini bisa dilakukan dengan bantuan program komputer. Penguasaan software statistik menjadi pelengkap wajib dari pengetahuan konsep statistik dan menjadi nilai keunggulan di lapangan kerja.\n",
    "\n",
    "Banyak macam software yang memiliki program statistik. Sebagian software khusus untuk mengerjakan statistik, seperti SPSS dan Stata. Sebagian lagi bisa digunakan untuk pemrograman matematika secara umum, seperti Matlab, Octave, Gauss dan R. Bahasa pemrograman umum seperti C, Java, Python, dan Julia pun memiliki library statistik. Penerapan statistik di industri teknologi di bawah payung topik *Machine Learning* memunculkan banyak library bahasa pemrograman yang lebih handal dan menerapkan teknik terkini dibanding software khusus statistik."
   ]
  },
  {
   "cell_type": "markdown",
   "metadata": {
    "slideshow": {
     "slide_type": "subslide"
    }
   },
   "source": [
    "### Software R\n",
    "- Gratis dan lengkap, bersaing dengan software statistik berbayar\n",
    "- Download installer R di [cran.r-project.org](https://cran.r-project.org)\n",
    "- Download juga RStudio Desktop di [rstudio.com](https://www.rstudio.com/products/rstudio/download) untuk antarmuka grafis\n",
    "- Download RStudio dari link-link berikut jika sistem operasi masih 32-bit: [Windows](http://download1.rstudio.org/RStudio-1.1.463.exe), [Ubuntu](http://download1.rstudio.org/rstudio-1.1.463-i386.deb), [Red Hat/Fedora](http://download1.rstudio.org/rstudio-1.1.463-i686.rpm), atau [MacOS El Capitan dan sebelumnya](http://download1.rstudio.org/RStudio-1.1.463.dmg)"
   ]
  },
  {
   "cell_type": "markdown",
   "metadata": {
    "slideshow": {
     "slide_type": "notes"
    }
   },
   "source": [
    "Kelas ini akan menggunakan software R, karena gratis dan lengkap, cukup bersaing dengan software statistik komersial yang mahal sekalipun. R bisa diunduh di [CRAN](https://cran.r-project.org), pilih versi sesuai dengan sistem operasi yang digunakan (Windows, MacOS, atau Linux).\n",
    "\n",
    "R ini pada dasarnya merupakan program yang berjalan dengan kode perintah (*syntax*). Namun R juga bisa digunakan menggunakan tampilan grafis (*GUI*). Software R yang dari CRAN sudah memiliki tampilan grafis sederhana, namun banyak alternatif GUI yang lebih baik. GUI paling populer adalah [RStudio](https://www.rstudio.com), dan versi desktop-nya saya rekomendasikan untuk siswa karena mudah diinstal ke semua sistem operasi. Saya sendiri akan lebih sering menggunakan Jupyter notebook yang menggunakan model tampilan *What You See Is What You Get* (WYSYWIG) seperti tampilan pengolah kata MS Word dan Google Docs. "
   ]
  },
  {
   "cell_type": "markdown",
   "metadata": {
    "slideshow": {
     "slide_type": "subslide"
    }
   },
   "source": [
    "### R Online\n",
    "- Siap pakai segera, tidak perlu menginstal apapun\n",
    "- Bisa dipakai dimana saja, selama ada akses internet\n",
    "- *Freemium*: bisa akses gratis dengan fitur dan kapasitas terbatas\n",
    "- [RStudio Cloud](https://cloud.rstudio.com) dengan antarmuka seperti versi desktopnya\n",
    "- [MyBinder](https://mybinder.org) untuk antarmuka jupyter notebook"
   ]
  },
  {
   "cell_type": "markdown",
   "metadata": {
    "slideshow": {
     "slide_type": "notes"
    }
   },
   "source": [
    "Proses setup software R hingga siap pakai, mencakup program R, GUI dan library yang dibutuhkan memerlukan waktu cukup lama. Berapa lama bergantung pada kecepatan akses internet untuk mengunduh dan kecepatan komputer dalam memproses instalasi. \n",
    "\n",
    "Cara yang lebih instan untuk bisa segera memakai R adalah menggunakan layanan software online yang cukup diakses dengan browser internet. Untuk menggunakan layanan ini, pengguna biasanya diharuskan mendaftar akun terlebih dulu. Biasanya ada opsi gratis untuk mencoba; sebagian tetap memberikan fitur penuh namun dibatasi waktu, sebagian lagi tidak membatasi waktu tapi membatasi fitur dan kapasitas pemakaian.\n",
    "\n",
    "Kebanyakan layanan software statistik online ini menggunakan Jupyter notebook sebagai antarmuka, seperti di [MyBinder](https://mybinder.org). Salah satu penyedia yang menggunakan antarmuka RStudio adalah [RStudio Cloud](https://cloud.rstudio.com). Sebagian lagi memiliki GUI yang dikembangkan sendiri."
   ]
  },
  {
   "cell_type": "markdown",
   "metadata": {
    "slideshow": {
     "slide_type": "slide"
    }
   },
   "source": [
    "## Pengertian"
   ]
  },
  {
   "cell_type": "markdown",
   "metadata": {
    "slideshow": {
     "slide_type": "slide"
    }
   },
   "source": [
    "### Jenis Statistik\n",
    "- **Statistik Deskriptif**: mengumpulkan, meringkas, dan menyajikan data\n",
    "- **Statistik Inferensial**: estimasi, prediksi, generalisasi mengenai satu populasi berdasarkan sampel\n",
    "    - **populasi**: kumpulan individu atau pengukuran yang jadi ketertarikan\n",
    "    - **sampel**: bagian dari populasi ketertarikan yang menjadi dasar inferensi"
   ]
  },
  {
   "cell_type": "markdown",
   "metadata": {
    "slideshow": {
     "slide_type": "slide"
    }
   },
   "source": [
    "### Macam Variabel\n",
    "- **Kualitatif**: non angka\n",
    "- **Kuantitatif**: angka\n",
    "    - Diskrit: bulat, tidak bisa dipecah\n",
    "    - Kontinyu: bisa dipecah hingga sekecil-kecilnya"
   ]
  },
  {
   "cell_type": "markdown",
   "metadata": {
    "slideshow": {
     "slide_type": "slide"
    }
   },
   "source": [
    "### Skala Pengukuran\n",
    "- **Nominal**: tak bisa diurutkan\n",
    "- **Ordinal**: urut, selisih tidak tentu\n",
    "- **Interval**: urut, selisih bisa dihitung, rasio tak tentu\n",
    "- **Rasio**: urut, selisih dan rasio bisa dihitung"
   ]
  }
 ],
 "metadata": {
  "celltoolbar": "Slideshow",
  "hide_input": false,
  "kernelspec": {
   "display_name": "R",
   "language": "R",
   "name": "ir"
  },
  "language_info": {
   "codemirror_mode": "r",
   "file_extension": ".r",
   "mimetype": "text/x-r-source",
   "name": "R",
   "pygments_lexer": "r",
   "version": "3.5.1"
  },
  "toc": {
   "base_numbering": 1,
   "nav_menu": {},
   "number_sections": false,
   "sideBar": true,
   "skip_h1_title": true,
   "title_cell": "Contents",
   "title_sidebar": "Contents",
   "toc_cell": false,
   "toc_position": {
    "height": "calc(100% - 180px)",
    "left": "10px",
    "top": "150px",
    "width": "199.2px"
   },
   "toc_section_display": true,
   "toc_window_display": false
  }
 },
 "nbformat": 4,
 "nbformat_minor": 2
}
