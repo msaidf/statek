{
 "cells": [
  {
   "cell_type": "markdown",
   "metadata": {},
   "source": [
    "# Estimasi dan Pelaporan"
   ]
  },
  {
   "cell_type": "markdown",
   "metadata": {},
   "source": [
    "## Estimasi Model Regresi"
   ]
  },
  {
   "cell_type": "markdown",
   "metadata": {},
   "source": [
    "Menjalankan regresi OLS pada R menggunakan perintah `lm`. Berikut adalah regresi tingkat morbiditas terhadap jumlah dokter, bidan, dan pendapatan domestik bruto per kapita di tiap kabupaten, menggunakan data INDO-DAPOER dari World Bank yang sudah disiapkan di bab sebelumnya dan tersimpan di file `datakab.rds`. \n",
    "\n",
    "Variabel pendapatan domestik bruto per kapita tidak terdapat di data tersebut, namun dapat dihitung sendiri dengan membagi variabel pendapatan domestik bruto dengan total populasi. Perhitungan itu bisa langsung dilakukan dalam spesifikasi persamaan pada fungsi `lm` dengan menempatkan perhitungan dalam `I()`."
   ]
  },
  {
   "cell_type": "code",
   "execution_count": 15,
   "metadata": {},
   "outputs": [
    {
     "data": {
      "text/plain": [
       "\n",
       "Call:\n",
       "lm(formula = morbidity_rate ~ number_of_doctors + number_of_midwives + \n",
       "    I(total_gdp_based_on_expenditure/total_population), data = datakab)\n",
       "\n",
       "Coefficients:\n",
       "                                       (Intercept)  \n",
       "                                        28.9713794  \n",
       "                                 number_of_doctors  \n",
       "                                        -0.0009816  \n",
       "                                number_of_midwives  \n",
       "                                         0.0002814  \n",
       "I(total_gdp_based_on_expenditure/total_population)  \n",
       "                                         0.0135187  \n"
      ]
     },
     "metadata": {},
     "output_type": "display_data"
    }
   ],
   "source": [
    "library(tidyverse)\n",
    "datakab = readRDS('datakab.rds')\n",
    "\n",
    "lm(morbidity_rate ~ number_of_doctors + number_of_midwives + \n",
    "                    I(total_gdp_based_on_expenditure/total_population), \n",
    "   data = datakab)"
   ]
  },
  {
   "cell_type": "markdown",
   "metadata": {},
   "source": [
    "Jika variabel hasil perhitungan akan digunakan lagi dalam analisis lainnya, lebih baik ditambahkan sebagai variabel baru dalam data."
   ]
  },
  {
   "cell_type": "code",
   "execution_count": 18,
   "metadata": {},
   "outputs": [
    {
     "data": {
      "text/plain": [
       "\n",
       "Call:\n",
       "lm(formula = morbidity_rate ~ number_of_doctors + number_of_midwives + \n",
       "    gdp_per_capita, data = datakab)\n",
       "\n",
       "Coefficients:\n",
       "       (Intercept)   number_of_doctors  number_of_midwives      gdp_per_capita  \n",
       "        28.9713794          -0.0009816           0.0002814           0.0135187  \n"
      ]
     },
     "metadata": {},
     "output_type": "display_data"
    }
   ],
   "source": [
    "datakab = datakab %>% mutate(gdp_per_capita = total_gdp_based_on_expenditure/total_population)\n",
    "reg_morbid = lm(morbidity_rate ~ number_of_doctors + number_of_midwives + gdp_per_capita, datakab)\n",
    "reg_morbid"
   ]
  },
  {
   "cell_type": "markdown",
   "metadata": {},
   "source": [
    "Output fungsi `lm` bisa disimpan menjadi obyek tipe/kelas `lm`, yang bisa digunakan untuk proses analisis berikutnya. "
   ]
  },
  {
   "cell_type": "code",
   "execution_count": 19,
   "metadata": {},
   "outputs": [
    {
     "data": {
      "text/html": [
       "'lm'"
      ],
      "text/latex": [
       "'lm'"
      ],
      "text/markdown": [
       "'lm'"
      ],
      "text/plain": [
       "[1] \"lm\""
      ]
     },
     "metadata": {},
     "output_type": "display_data"
    }
   ],
   "source": [
    "class(reg_morbid)"
   ]
  },
  {
   "cell_type": "markdown",
   "metadata": {},
   "source": [
    "Obyek `lm` merupakan kumpulan dari vektor dan matriks yang menyimpan hasil estimasi, nilai residual dan prediksi variabel respon, dan bagian data dari variabel-variabel yang dilibatkan dalam estimasi. \n",
    "\n",
    "Komponen obyek `lm` bisa didaftar namanya dengan perintah `names` dan ditampilkan dengan operator `$`."
   ]
  },
  {
   "cell_type": "code",
   "execution_count": 22,
   "metadata": {},
   "outputs": [
    {
     "data": {
      "text/html": [
       "<table>\n",
       "<tbody>\n",
       "\t<tr><td>coefficients </td><td>residuals    </td><td>effects      </td><td>rank         </td><td>fitted.values</td><td>assign       </td><td>qr           </td><td>df.residual  </td><td>na.action    </td><td>xlevels      </td><td>call         </td><td>terms        </td><td>model        </td></tr>\n",
       "</tbody>\n",
       "</table>\n"
      ],
      "text/latex": [
       "\\begin{tabular}{lllllllllllll}\n",
       "\t coefficients  & residuals     & effects       & rank          & fitted.values & assign        & qr            & df.residual   & na.action     & xlevels       & call          & terms         & model        \\\\\n",
       "\\end{tabular}\n"
      ],
      "text/markdown": [
       "\n",
       "| coefficients  | residuals     | effects       | rank          | fitted.values | assign        | qr            | df.residual   | na.action     | xlevels       | call          | terms         | model         |\n",
       "\n"
      ],
      "text/plain": [
       "     [,1]         [,2]      [,3]    [,4] [,5]          [,6]   [,7] [,8]       \n",
       "[1,] coefficients residuals effects rank fitted.values assign qr   df.residual\n",
       "     [,9]      [,10]   [,11] [,12] [,13]\n",
       "[1,] na.action xlevels call  terms model"
      ]
     },
     "metadata": {},
     "output_type": "display_data"
    }
   ],
   "source": [
    "names(reg_morbid) %>% t"
   ]
  },
  {
   "cell_type": "code",
   "execution_count": 24,
   "metadata": {},
   "outputs": [
    {
     "data": {
      "text/html": [
       "<table>\n",
       "<thead><tr><th scope=col>(Intercept)</th><th scope=col>number_of_doctors</th><th scope=col>number_of_midwives</th><th scope=col>gdp_per_capita</th></tr></thead>\n",
       "<tbody>\n",
       "\t<tr><td>28.97138     </td><td>-0.0009816237</td><td>0.0002814264 </td><td>0.01351866   </td></tr>\n",
       "</tbody>\n",
       "</table>\n"
      ],
      "text/latex": [
       "\\begin{tabular}{llll}\n",
       " (Intercept) & number\\_of\\_doctors & number\\_of\\_midwives & gdp\\_per\\_capita\\\\\n",
       "\\hline\n",
       "\t 28.97138      & -0.0009816237 & 0.0002814264  & 0.01351866   \\\\\n",
       "\\end{tabular}\n"
      ],
      "text/markdown": [
       "\n",
       "| (Intercept) | number_of_doctors | number_of_midwives | gdp_per_capita |\n",
       "|---|---|---|---|\n",
       "| 28.97138      | -0.0009816237 | 0.0002814264  | 0.01351866    |\n",
       "\n"
      ],
      "text/plain": [
       "     (Intercept) number_of_doctors number_of_midwives gdp_per_capita\n",
       "[1,] 28.97138    -0.0009816237     0.0002814264       0.01351866    "
      ]
     },
     "metadata": {},
     "output_type": "display_data"
    }
   ],
   "source": [
    "reg_morbid$coefficients %>% t"
   ]
  },
  {
   "cell_type": "markdown",
   "metadata": {},
   "source": [
    "> Catatan: Kedua perintah di atas bisa dijalankan tanpa piping ke fungsi transpose ` %>% t`, yang digunakan di sini semata untuk menghemat ruang untuk menampilkan output R dan membuatnya lebih mudah dibaca. "
   ]
  },
  {
   "cell_type": "code",
   "execution_count": 27,
   "metadata": {},
   "outputs": [
    {
     "data": {
      "text/html": [
       "<table>\n",
       "<thead><tr><th></th><th scope=col>morbidity_rate</th><th scope=col>number_of_doctors</th><th scope=col>number_of_midwives</th><th scope=col>gdp_per_capita</th></tr></thead>\n",
       "<tbody>\n",
       "\t<tr><th scope=row>7164</th><td>36.17800 </td><td> 798     </td><td> 9243    </td><td>18.509821</td></tr>\n",
       "\t<tr><th scope=row>7167</th><td>27.18699 </td><td>1157     </td><td> 5179    </td><td>23.923051</td></tr>\n",
       "\t<tr><th scope=row>7174</th><td>16.62400 </td><td>2187     </td><td> 8792    </td><td> 8.763994</td></tr>\n",
       "\t<tr><th scope=row>7176</th><td>19.77800 </td><td>2761     </td><td> 7142    </td><td>11.527983</td></tr>\n",
       "\t<tr><th scope=row>7179</th><td>25.19100 </td><td>2442     </td><td>22611    </td><td>16.874743</td></tr>\n",
       "\t<tr><th scope=row>7182</th><td>25.44086 </td><td>2874     </td><td>12420    </td><td>23.762079</td></tr>\n",
       "</tbody>\n",
       "</table>\n"
      ],
      "text/latex": [
       "\\begin{tabular}{r|llll}\n",
       "  & morbidity\\_rate & number\\_of\\_doctors & number\\_of\\_midwives & gdp\\_per\\_capita\\\\\n",
       "\\hline\n",
       "\t7164 & 36.17800  &  798      &  9243     & 18.509821\\\\\n",
       "\t7167 & 27.18699  & 1157      &  5179     & 23.923051\\\\\n",
       "\t7174 & 16.62400  & 2187      &  8792     &  8.763994\\\\\n",
       "\t7176 & 19.77800  & 2761      &  7142     & 11.527983\\\\\n",
       "\t7179 & 25.19100  & 2442      & 22611     & 16.874743\\\\\n",
       "\t7182 & 25.44086  & 2874      & 12420     & 23.762079\\\\\n",
       "\\end{tabular}\n"
      ],
      "text/markdown": [
       "\n",
       "| <!--/--> | morbidity_rate | number_of_doctors | number_of_midwives | gdp_per_capita |\n",
       "|---|---|---|---|---|\n",
       "| 7164 | 36.17800  |  798      |  9243     | 18.509821 |\n",
       "| 7167 | 27.18699  | 1157      |  5179     | 23.923051 |\n",
       "| 7174 | 16.62400  | 2187      |  8792     |  8.763994 |\n",
       "| 7176 | 19.77800  | 2761      |  7142     | 11.527983 |\n",
       "| 7179 | 25.19100  | 2442      | 22611     | 16.874743 |\n",
       "| 7182 | 25.44086  | 2874      | 12420     | 23.762079 |\n",
       "\n"
      ],
      "text/plain": [
       "     morbidity_rate number_of_doctors number_of_midwives gdp_per_capita\n",
       "7164 36.17800        798               9243              18.509821     \n",
       "7167 27.18699       1157               5179              23.923051     \n",
       "7174 16.62400       2187               8792               8.763994     \n",
       "7176 19.77800       2761               7142              11.527983     \n",
       "7179 25.19100       2442              22611              16.874743     \n",
       "7182 25.44086       2874              12420              23.762079     "
      ]
     },
     "metadata": {},
     "output_type": "display_data"
    }
   ],
   "source": [
    "tail(reg_morbid$model)"
   ]
  },
  {
   "cell_type": "markdown",
   "metadata": {},
   "source": [
    "## Pelaporan Hasil Regresi"
   ]
  },
  {
   "cell_type": "markdown",
   "metadata": {},
   "source": [
    "Ada berapa library R yang memudahkan pelaporan hasil regresi beserta statistik terkait, seperti `stargazer` dan `texreg`. Library tersebut juga memfasilitasi perbandingan antar model dengan menampilkan hasil dari beberapa regresi secara berdampingan. \n",
    "\n",
    "Untuk menampilkan laporan di console R, gunakan argumen `type = 'text'` di stargazer dan fungsi `screenreg` untuk library `texreg`. \n",
    "> Piping hasil `screenreg` ke `print` tidak diperlukan di console, hanya perlu ditambahkan untuk penampilan di jupyter notebook."
   ]
  },
  {
   "cell_type": "code",
   "execution_count": 63,
   "metadata": {},
   "outputs": [],
   "source": [
    "reg_morbid_2 = lm(morbidity_rate ~ number_of_doctors + number_of_midwives, datakab)"
   ]
  },
  {
   "cell_type": "code",
   "execution_count": 66,
   "metadata": {},
   "outputs": [
    {
     "name": "stdout",
     "output_type": "stream",
     "text": [
      "\n",
      "===========================================\n",
      "                    Model 1     Model 2    \n",
      "-------------------------------------------\n",
      "(Intercept)          28.97 ***    29.11 ***\n",
      "                     (1.03)       (0.22)   \n",
      "number_of_doctors    -0.00        -0.00 *  \n",
      "                     (0.00)       (0.00)   \n",
      "number_of_midwives    0.00         0.00    \n",
      "                     (0.00)       (0.00)   \n",
      "gdp_per_capita        0.01                 \n",
      "                     (0.04)                \n",
      "-------------------------------------------\n",
      "R^2                   0.03         0.00    \n",
      "Adj. R^2             -0.00         0.00    \n",
      "Num. obs.           110         1825       \n",
      "RMSE                  6.71         8.78    \n",
      "===========================================\n",
      "*** p < 0.001, ** p < 0.01, * p < 0.05\n"
     ]
    }
   ],
   "source": [
    "list(reg_morbid, reg_morbid_2) %>% texreg::screenreg() %>% print"
   ]
  },
  {
   "cell_type": "code",
   "execution_count": 67,
   "metadata": {},
   "outputs": [
    {
     "name": "stdout",
     "output_type": "stream",
     "text": [
      "\n",
      "============================================================\n",
      "                              Dependent variable:           \n",
      "                    ----------------------------------------\n",
      "                                 morbidity_rate             \n",
      "                            (1)                 (2)         \n",
      "------------------------------------------------------------\n",
      "number_of_doctors         -0.001              -0.001**      \n",
      "                          (0.001)             (0.001)       \n",
      "                                                            \n",
      "number_of_midwives        0.0003              0.0003*       \n",
      "                         (0.0002)             (0.0002)      \n",
      "                                                            \n",
      "gdp_per_capita             0.014                            \n",
      "                          (0.039)                           \n",
      "                                                            \n",
      "Constant                 28.971***           29.111***      \n",
      "                          (1.032)             (0.217)       \n",
      "                                                            \n",
      "------------------------------------------------------------\n",
      "Observations                110                1,825        \n",
      "R2                         0.026               0.002        \n",
      "Adjusted R2               -0.002               0.001        \n",
      "Residual Std. Error  6.708 (df = 106)    8.778 (df = 1822)  \n",
      "F Statistic         0.928 (df = 3; 106) 2.219 (df = 2; 1822)\n",
      "============================================================\n",
      "Note:                            *p<0.1; **p<0.05; ***p<0.01\n"
     ]
    }
   ],
   "source": [
    "stargazer::stargazer(reg_morbid, reg_morbid_2, type = 'text')"
   ]
  },
  {
   "cell_type": "markdown",
   "metadata": {},
   "source": [
    "`stargazer` dan `texreg` juga menyediakan format output latex dan html.\n",
    "- untuk output latex, gunakan argumen `type = tex` di fungsi `stargazer`, dan fungsi `texreg` di library `texreg`\n",
    "- untuk output html, gunakan argumen `type = html` di fungsi `stargazer`, dan fungsi `htmlreg` di library `texreg`"
   ]
  },
  {
   "cell_type": "markdown",
   "metadata": {},
   "source": [
    "Format latex dan html sulit dibaca di layar. Tampilan di layar perlu disalin dulu ke file dokumen dan ditampilkan sebagai pdf untuk latex atau melalui browser untuk html. Output latex dan html bisa juga langsung disimpan ke file dengan menyebutkan path dan nama file pada argumen `out` untuk `stargazer` dan `file` untuk `texreg`."
   ]
  },
  {
   "cell_type": "markdown",
   "metadata": {},
   "source": [
    "`stargazer` otomatis mengenali tipe output yang diinginkan dari ekstensi nama file, sehingga tidak perlu menyebutkan argumen `type` lagi. "
   ]
  },
  {
   "cell_type": "code",
   "execution_count": null,
   "metadata": {},
   "outputs": [],
   "source": [
    "texreg::texreg(list(reg_morbid, reg_morbid_2), file = 'reg_morbid.tex')\n",
    "stargazer::stargazer(reg_morbid, reg_morbid_2, out = 'reg_morbid.html')"
   ]
  },
  {
   "cell_type": "markdown",
   "metadata": {},
   "source": [
    "Untuk menampilkan output di dokumen format doc/docx atau ppt/pptx, bisa dengan menyalin tampilan output html di browser. Output html bisa juga ditampilkan di jupyter notebook dengan bantuan `IRdisplay::display_html`"
   ]
  },
  {
   "cell_type": "code",
   "execution_count": 70,
   "metadata": {},
   "outputs": [
    {
     "data": {
      "text/html": [
       "\n",
       "<table style=\"text-align:center\"><tr><td colspan=\"3\" style=\"border-bottom: 1px solid black\"></td></tr><tr><td style=\"text-align:left\"></td><td colspan=\"2\"><em>Dependent variable:</em></td></tr>\n",
       "<tr><td></td><td colspan=\"2\" style=\"border-bottom: 1px solid black\"></td></tr>\n",
       "<tr><td style=\"text-align:left\"></td><td colspan=\"2\">morbidity_rate</td></tr>\n",
       "<tr><td style=\"text-align:left\"></td><td>(1)</td><td>(2)</td></tr>\n",
       "<tr><td colspan=\"3\" style=\"border-bottom: 1px solid black\"></td></tr><tr><td style=\"text-align:left\">number_of_doctors</td><td>-0.001</td><td>-0.001<sup>**</sup></td></tr>\n",
       "<tr><td style=\"text-align:left\"></td><td>(0.001)</td><td>(0.001)</td></tr>\n",
       "<tr><td style=\"text-align:left\"></td><td></td><td></td></tr>\n",
       "<tr><td style=\"text-align:left\">number_of_midwives</td><td>0.0003</td><td>0.0003<sup>*</sup></td></tr>\n",
       "<tr><td style=\"text-align:left\"></td><td>(0.0002)</td><td>(0.0002)</td></tr>\n",
       "<tr><td style=\"text-align:left\"></td><td></td><td></td></tr>\n",
       "<tr><td style=\"text-align:left\">gdp_per_capita</td><td>0.014</td><td></td></tr>\n",
       "<tr><td style=\"text-align:left\"></td><td>(0.039)</td><td></td></tr>\n",
       "<tr><td style=\"text-align:left\"></td><td></td><td></td></tr>\n",
       "<tr><td style=\"text-align:left\">Constant</td><td>28.971<sup>***</sup></td><td>29.111<sup>***</sup></td></tr>\n",
       "<tr><td style=\"text-align:left\"></td><td>(1.032)</td><td>(0.217)</td></tr>\n",
       "<tr><td style=\"text-align:left\"></td><td></td><td></td></tr>\n",
       "<tr><td colspan=\"3\" style=\"border-bottom: 1px solid black\"></td></tr><tr><td style=\"text-align:left\">Observations</td><td>110</td><td>1,825</td></tr>\n",
       "<tr><td style=\"text-align:left\">R<sup>2</sup></td><td>0.026</td><td>0.002</td></tr>\n",
       "<tr><td style=\"text-align:left\">Adjusted R<sup>2</sup></td><td>-0.002</td><td>0.001</td></tr>\n",
       "<tr><td style=\"text-align:left\">Residual Std. Error</td><td>6.708 (df = 106)</td><td>8.778 (df = 1822)</td></tr>\n",
       "<tr><td style=\"text-align:left\">F Statistic</td><td>0.928 (df = 3; 106)</td><td>2.219 (df = 2; 1822)</td></tr>\n",
       "<tr><td colspan=\"3\" style=\"border-bottom: 1px solid black\"></td></tr><tr><td style=\"text-align:left\"><em>Note:</em></td><td colspan=\"2\" style=\"text-align:right\"><sup>*</sup>p<0.1; <sup>**</sup>p<0.05; <sup>***</sup>p<0.01</td></tr>\n",
       "</table>\n"
      ]
     },
     "metadata": {},
     "output_type": "display_data"
    }
   ],
   "source": [
    "IRdisplay::display_html(file = 'reg_morbid.html')"
   ]
  },
  {
   "cell_type": "markdown",
   "metadata": {},
   "source": [
    "## *Robust Standar Error*"
   ]
  },
  {
   "cell_type": "markdown",
   "metadata": {},
   "source": [
    "Tabel hasil regresi dalam jurnal ilmiah biasanya melaporkan standar error yang telah dikoreksi dari masalah heterokesdastisitas dan atau korelasi serial. Standard error yang dikoreksi tersebut bisa dihitung dari obyek `lm` yang sudah ada, lalu digunakan untuk mengganti standard error bawaan OLS. Namun cara yang lebih mudah adalah dengan sejak awal estimasi menggunakan fungsi `lm_robust` dari library `estimatr` yang langsung memberikan standard error yang telah dikoreksi.\n",
    "\n",
    "Default lm_robust menggunakan metode koreksi `HC2` dari McKinnon-White (1985). Standard error yang dihasilkan opsi robust di software Stata bisa direplikasi dengan menggunakan argumen `se_type = \"stata`.\n",
    "\n",
    "`stargazer` belum bisa melaporkan hasil dari `lm_robust`, namun `texreg` sudah mendukung. Gunakan argumen `include.ci = FALSE` untuk menampilkan standard error, bukan confidence interval yang merupakan tampilan default untuk lm_robust."
   ]
  },
  {
   "cell_type": "code",
   "execution_count": 101,
   "metadata": {},
   "outputs": [
    {
     "data": {
      "text/html": [
       "\n",
       "<!DOCTYPE HTML PUBLIC \"-//W3C//DTD HTML 4.01 Transitional//EN\" \"http://www.w3.org/TR/html4/loose.dtd\">\n",
       "<table cellspacing=\"0\" align=\"center\" style=\"border: none;\">\n",
       "<caption align=\"bottom\" style=\"margin-top:0.3em;\">Statistical models</caption>\n",
       "<tr>\n",
       "<th style=\"text-align: left; border-top: 2px solid black; border-bottom: 1px solid black; padding-right: 12px;\"><b></b></th>\n",
       "<th style=\"text-align: left; border-top: 2px solid black; border-bottom: 1px solid black; padding-right: 12px;\"><b>Model 1</b></th>\n",
       "<th style=\"text-align: left; border-top: 2px solid black; border-bottom: 1px solid black; padding-right: 12px;\"><b>Model 2</b></th>\n",
       "<th style=\"text-align: left; border-top: 2px solid black; border-bottom: 1px solid black; padding-right: 12px;\"><b>Model 3</b></th>\n",
       "</tr>\n",
       "<tr>\n",
       "<td style=\"padding-right: 12px; border: none;\">(Intercept)</td>\n",
       "<td style=\"padding-right: 12px; border: none;\">29.1109<sup style=\"vertical-align: 0px;\">***</sup></td>\n",
       "<td style=\"padding-right: 12px; border: none;\">29.1109<sup style=\"vertical-align: 0px;\">***</sup></td>\n",
       "<td style=\"padding-right: 12px; border: none;\">29.1109<sup style=\"vertical-align: 0px;\">***</sup></td>\n",
       "</tr>\n",
       "<tr>\n",
       "<td style=\"padding-right: 12px; border: none;\"></td>\n",
       "<td style=\"padding-right: 12px; border: none;\">(0.2166)</td>\n",
       "<td style=\"padding-right: 12px; border: none;\">(0.2174)</td>\n",
       "<td style=\"padding-right: 12px; border: none;\">(0.2174)</td>\n",
       "</tr>\n",
       "<tr>\n",
       "<td style=\"padding-right: 12px; border: none;\">number_of_doctors</td>\n",
       "<td style=\"padding-right: 12px; border: none;\">-0.0013<sup style=\"vertical-align: 0px;\">*</sup></td>\n",
       "<td style=\"padding-right: 12px; border: none;\">-0.0013<sup style=\"vertical-align: 0px;\">**</sup></td>\n",
       "<td style=\"padding-right: 12px; border: none;\">-0.0013<sup style=\"vertical-align: 0px;\">**</sup></td>\n",
       "</tr>\n",
       "<tr>\n",
       "<td style=\"padding-right: 12px; border: none;\"></td>\n",
       "<td style=\"padding-right: 12px; border: none;\">(0.0006)</td>\n",
       "<td style=\"padding-right: 12px; border: none;\">(0.0004)</td>\n",
       "<td style=\"padding-right: 12px; border: none;\">(0.0004)</td>\n",
       "</tr>\n",
       "<tr>\n",
       "<td style=\"padding-right: 12px; border: none;\">number_of_midwives</td>\n",
       "<td style=\"padding-right: 12px; border: none;\">0.0003</td>\n",
       "<td style=\"padding-right: 12px; border: none;\">0.0003<sup style=\"vertical-align: 0px;\">*</sup></td>\n",
       "<td style=\"padding-right: 12px; border: none;\">0.0003<sup style=\"vertical-align: 0px;\">*</sup></td>\n",
       "</tr>\n",
       "<tr>\n",
       "<td style=\"padding-right: 12px; border: none;\"></td>\n",
       "<td style=\"padding-right: 12px; border: none;\">(0.0002)</td>\n",
       "<td style=\"padding-right: 12px; border: none;\">(0.0001)</td>\n",
       "<td style=\"padding-right: 12px; border: none;\">(0.0001)</td>\n",
       "</tr>\n",
       "<tr>\n",
       "<td style=\"border-top: 1px solid black;\">R<sup style=\"vertical-align: 0px;\">2</sup></td>\n",
       "<td style=\"border-top: 1px solid black;\">0.0024</td>\n",
       "<td style=\"border-top: 1px solid black;\">0.0024</td>\n",
       "<td style=\"border-top: 1px solid black;\">0.0024</td>\n",
       "</tr>\n",
       "<tr>\n",
       "<td style=\"padding-right: 12px; border: none;\">Adj. R<sup style=\"vertical-align: 0px;\">2</sup></td>\n",
       "<td style=\"padding-right: 12px; border: none;\">0.0013</td>\n",
       "<td style=\"padding-right: 12px; border: none;\">0.0013</td>\n",
       "<td style=\"padding-right: 12px; border: none;\">0.0013</td>\n",
       "</tr>\n",
       "<tr>\n",
       "<td style=\"padding-right: 12px; border: none;\">Num. obs.</td>\n",
       "<td style=\"padding-right: 12px; border: none;\">1825</td>\n",
       "<td style=\"padding-right: 12px; border: none;\">1825</td>\n",
       "<td style=\"padding-right: 12px; border: none;\">1825</td>\n",
       "</tr>\n",
       "<tr>\n",
       "<td style=\"border-bottom: 2px solid black;\">RMSE</td>\n",
       "<td style=\"border-bottom: 2px solid black;\">8.7776</td>\n",
       "<td style=\"border-bottom: 2px solid black;\">8.7776</td>\n",
       "<td style=\"border-bottom: 2px solid black;\">8.7776</td>\n",
       "</tr>\n",
       "<tr>\n",
       "<td style=\"padding-right: 12px; border: none;\" colspan=\"5\"><span style=\"font-size:0.8em\"><sup style=\"vertical-align: 0px;\">***</sup>p &lt; 0.001, <sup style=\"vertical-align: 0px;\">**</sup>p &lt; 0.01, <sup style=\"vertical-align: 0px;\">*</sup>p &lt; 0.05</span></td>\n",
       "</tr>\n",
       "</table>\n"
      ]
     },
     "metadata": {},
     "output_type": "display_data"
    }
   ],
   "source": [
    "library(estimatr)\n",
    "robust_default = lm_robust(morbidity_rate ~ number_of_doctors + number_of_midwives, datakab)\n",
    "robust_stata = lm_robust(morbidity_rate ~ number_of_doctors + number_of_midwives, datakab, \n",
    "                         se_type = 'stata')\n",
    "\n",
    "list(reg_morbid_2, robust_default, robust_stata) %>% \n",
    "texreg::htmlreg(digits = 4, include.ci = FALSE) %>% \n",
    "IRdisplay::display_html()"
   ]
  },
  {
   "cell_type": "markdown",
   "metadata": {},
   "source": [
    "Bisa dilihat koreksi heterokesdastisitas mengubah nilai standard error dibanding hasil OLS. Akan tetapi tidak nampak ada perbedaan antara metode koreksi bawaan default `lm_robust` dengan metode koreksi opsi robust Stata."
   ]
  }
 ],
 "metadata": {
  "hide_input": false,
  "kernelspec": {
   "display_name": "R",
   "language": "R",
   "name": "ir"
  },
  "language_info": {
   "codemirror_mode": "r",
   "file_extension": ".r",
   "mimetype": "text/x-r-source",
   "name": "R",
   "pygments_lexer": "r",
   "version": "3.5.3"
  },
  "toc": {
   "base_numbering": 1,
   "nav_menu": {},
   "number_sections": false,
   "sideBar": true,
   "skip_h1_title": false,
   "title_cell": "Table of Contents",
   "title_sidebar": "Contents",
   "toc_cell": false,
   "toc_position": {},
   "toc_section_display": true,
   "toc_window_display": false
  }
 },
 "nbformat": 4,
 "nbformat_minor": 4
}
